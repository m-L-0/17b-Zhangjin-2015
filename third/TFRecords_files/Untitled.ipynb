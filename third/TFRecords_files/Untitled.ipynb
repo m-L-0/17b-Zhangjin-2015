{
 "cells": [
  {
   "cell_type": "code",
   "execution_count": 1,
   "metadata": {
    "collapsed": true
   },
   "outputs": [],
   "source": [
    "# coding: utf-8\n",
    "import tensorflow as tf\n",
    "import csv\n",
    "import numpy as np\n",
    "from PIL import Image"
   ]
  },
  {
   "cell_type": "code",
   "execution_count": 2,
   "metadata": {
    "collapsed": true
   },
   "outputs": [],
   "source": [
    "csv_reader = csv.reader(open(r'H:/homework3/data/captcha/labels/labels.csv', encoding='utf-8'))\n",
    "images = []  # 存放图片路径\n",
    "labels = []  # 存放图片的标签\n",
    "for row in csv_reader:\n",
    "    images += [r'H:/homework3/' + row[0]]\n",
    "    labels += [row[1]]"
   ]
  },
  {
   "cell_type": "code",
   "execution_count": 3,
   "metadata": {
    "collapsed": true
   },
   "outputs": [],
   "source": [
    "vernier = 0\n",
    "def img_str(batch_size=4000):\n",
    "    img_ = []\n",
    "    global vernier\n",
    "    for i in range(batch_size):\n",
    "        if i % 1000 == 0 and i !=0:\n",
    "            print('已经处理了%d'%(i+1))\n",
    "        im = Image.open(images[i + vernier])\n",
    "        img = im.resize((50, 40), Image.ANTIALIAS)\n",
    "        img = np.array(img)\n",
    "        img = img[:, :, 0] * 0.299 + img[:, :, 1] * 0.587 + img[:, :, 2] * 0.114\n",
    "        img = np.reshape(img,(2000))\n",
    "        img_ += [np.array(img)]\n",
    "    print('总共处理了%d'%(batch_size))\n",
    "    vernier = vernier + batch_size\n",
    "    return img_"
   ]
  },
  {
   "cell_type": "code",
   "execution_count": 4,
   "metadata": {
    "collapsed": true
   },
   "outputs": [],
   "source": [
    "vernier = 0\n",
    "def make_tfrecord():\n",
    "    print('正在处理第%d批次' % vernier)\n",
    "    writer = tf.python_io.TFRecordWriter(\"tfrecords/all%d.tfrecords\" % (vernier/4000))\n",
    "    print('成功建立文件')\n",
    "    image = img_str(4000)\n",
    "    label = labels[vernier-4000:vernier]\n",
    "    for j in range(len(image)):\n",
    "        example = tf.train.Example(features=tf.train.Features(feature={\n",
    "            \"label\": tf.train.Feature(int64_list=tf.train.Int64List(value=[int(label[j])])),\n",
    "            'img': tf.train.Feature(float_list=tf.train.FloatList(value=image[j]))\n",
    "        }))\n",
    "        writer.write(example.SerializeToString())\n",
    "    writer.close()"
   ]
  },
  {
   "cell_type": "code",
   "execution_count": 5,
   "metadata": {},
   "outputs": [
    {
     "name": "stdout",
     "output_type": "stream",
     "text": [
      "正在处理第0批次\n",
      "成功建立文件\n",
      "已经处理了1001\n",
      "已经处理了2001\n",
      "已经处理了3001\n",
      "总共处理了4000\n",
      "已经处理成功\n",
      "正在处理第4000批次\n",
      "成功建立文件\n",
      "已经处理了1001\n",
      "已经处理了2001\n",
      "已经处理了3001\n",
      "总共处理了4000\n",
      "已经处理成功\n",
      "正在处理第8000批次\n",
      "成功建立文件\n",
      "已经处理了1001\n",
      "已经处理了2001\n",
      "已经处理了3001\n",
      "总共处理了4000\n",
      "已经处理成功\n",
      "正在处理第12000批次\n",
      "成功建立文件\n",
      "已经处理了1001\n",
      "已经处理了2001\n",
      "已经处理了3001\n",
      "总共处理了4000\n",
      "已经处理成功\n",
      "正在处理第16000批次\n",
      "成功建立文件\n",
      "已经处理了1001\n",
      "已经处理了2001\n",
      "已经处理了3001\n",
      "总共处理了4000\n",
      "已经处理成功\n",
      "正在处理第20000批次\n",
      "成功建立文件\n",
      "已经处理了1001\n",
      "已经处理了2001\n",
      "已经处理了3001\n",
      "总共处理了4000\n",
      "已经处理成功\n",
      "正在处理第24000批次\n",
      "成功建立文件\n",
      "已经处理了1001\n",
      "已经处理了2001\n",
      "已经处理了3001\n",
      "总共处理了4000\n",
      "已经处理成功\n",
      "正在处理第28000批次\n",
      "成功建立文件\n",
      "已经处理了1001\n",
      "已经处理了2001\n",
      "已经处理了3001\n",
      "总共处理了4000\n",
      "已经处理成功\n",
      "正在处理第32000批次\n",
      "成功建立文件\n",
      "已经处理了1001\n",
      "已经处理了2001\n",
      "已经处理了3001\n",
      "总共处理了4000\n",
      "已经处理成功\n",
      "正在处理第36000批次\n",
      "成功建立文件\n",
      "已经处理了1001\n",
      "已经处理了2001\n",
      "已经处理了3001\n",
      "总共处理了4000\n",
      "已经处理成功\n"
     ]
    }
   ],
   "source": [
    "for k in range(10):\n",
    "    make_tfrecord()\n",
    "    print('已经处理成功')"
   ]
  },
  {
   "cell_type": "code",
   "execution_count": null,
   "metadata": {
    "collapsed": true
   },
   "outputs": [],
   "source": []
  }
 ],
 "metadata": {
  "kernelspec": {
   "display_name": "Python 3",
   "language": "python",
   "name": "python3"
  },
  "language_info": {
   "codemirror_mode": {
    "name": "ipython",
    "version": 3
   },
   "file_extension": ".py",
   "mimetype": "text/x-python",
   "name": "python",
   "nbconvert_exporter": "python",
   "pygments_lexer": "ipython3",
   "version": "3.6.3"
  }
 },
 "nbformat": 4,
 "nbformat_minor": 2
}
