{
 "cells": [
  {
   "cell_type": "code",
   "execution_count": 1,
   "metadata": {
    "collapsed": true
   },
   "outputs": [],
   "source": [
    "import gzip\n",
    "import numpy as np\n",
    "import time\n",
    "import tensorflow as tf"
   ]
  },
  {
   "cell_type": "code",
   "execution_count": 2,
   "metadata": {
    "collapsed": true
   },
   "outputs": [],
   "source": [
    "num_files = 60000\n",
    "images = np.zeros((num_files,28,28),dtype=np.uint8)\n",
    "labels = np.zeros((num_files, ), dtype=np.uint8)"
   ]
  },
  {
   "cell_type": "code",
   "execution_count": 3,
   "metadata": {
    "collapsed": true
   },
   "outputs": [],
   "source": [
    "def load_mnist(path, kind='train'):\n",
    "\tglobal images,labels\n",
    "\tlabels_path = path + r'/%s-labels-idx1-ubyte.gz' %kind\n",
    "\t\n",
    "\timages_path = path + r'/%s-images-idx3-ubyte.gz'%kind\n",
    "\t\n",
    "\twith gzip.open(labels_path, 'rb') as lbpath:\n",
    "\t\tlabels = np.frombuffer(lbpath.read(), dtype=np.uint8,offset=8)\n",
    "\twith gzip.open(images_path, 'rb') as imgpath:\n",
    "\t\timages = np.frombuffer(imgpath.read(), dtype=np.uint8,offset=16).reshape(len(labels), 784)\n",
    "\treturn images,labels\n"
   ]
  },
  {
   "cell_type": "code",
   "execution_count": 7,
   "metadata": {
    "collapsed": true
   },
   "outputs": [],
   "source": [
    "def convert(images,labels,name):\n",
    "\tnum = len(images)\n",
    "\tfilename = name+'.tfrecords'\n",
    "\twriter = tf.python_io.TFRecordWriter(filename)\n",
    "\tfor i in range(num-5000):\n",
    "\t\t\n",
    "\t\texample = tf.train.Example(features=tf.train.Features(feature={'label': tf.train.Feature(int64_list=tf.train.Int64List(value=[labels[i]])),'iamge_raw':tf.train.Feature(float_list=tf.train.FloatList(value=images[i]))}))\n",
    "\t\twriter.write(example.SerializeToString())\n",
    "\t\tif (i+1)%10000 == 0:\n",
    "\t\t\tprint('have done %d img' %(i+1))\n",
    "\twriter.close()\n",
    "\tprint('have done %d img Writting End_1' %(num-5000))\n",
    "\t\n",
    "\tfilenamee = name+'_t.tfrecords'\n",
    "\twriters = tf.python_io.TFRecordWriter(filenamee)\n",
    "\tfor i in range(num-5000,num):\n",
    "\t\t\n",
    "\t\texample = tf.train.Example(features=tf.train.Features(feature={'label': tf.train.Feature(int64_list=tf.train.Int64List(value=[labels[i]])),'iamge_raw':tf.train.Feature(float_list=tf.train.FloatList(value=images[i]))}))\n",
    "\t\twriters.write(example.SerializeToString())\n",
    "\t\t\n",
    "\t\tif (i+1)%1000 == 0:\n",
    "\t\t\tprint('have done %d img' %(i+1))\n",
    "\twriters.close()\n",
    "\t\n",
    "\tprint('Writting End_2')"
   ]
  },
  {
   "cell_type": "code",
   "execution_count": 8,
   "metadata": {},
   "outputs": [
    {
     "name": "stdout",
     "output_type": "stream",
     "text": [
      "have done 10000 img\n",
      "have done 20000 img\n",
      "have done 30000 img\n",
      "have done 40000 img\n",
      "have done 50000 img\n",
      "have done 55000 img Writting End_1\n",
      "have done 56000 img\n",
      "have done 57000 img\n",
      "have done 58000 img\n",
      "have done 59000 img\n",
      "have done 60000 img\n",
      "Writting End_2\n",
      "it cost 156\n"
     ]
    }
   ],
   "source": [
    "if __name__ == '__main__':\n",
    "\tstart_time = time.time()\n",
    "\tload_mnist(r'data/fashion', kind='train')\n",
    "\tconvert(images,labels,'train')\n",
    "\tduration = time.time()-start_time\n",
    "\tprint('it cost %d' %duration)"
   ]
  },
  {
   "cell_type": "code",
   "execution_count": null,
   "metadata": {
    "collapsed": true
   },
   "outputs": [],
   "source": []
  }
 ],
 "metadata": {
  "kernelspec": {
   "display_name": "Python 3",
   "language": "python",
   "name": "python3"
  },
  "language_info": {
   "codemirror_mode": {
    "name": "ipython",
    "version": 3
   },
   "file_extension": ".py",
   "mimetype": "text/x-python",
   "name": "python",
   "nbconvert_exporter": "python",
   "pygments_lexer": "ipython3",
   "version": "3.6.1"
  }
 },
 "nbformat": 4,
 "nbformat_minor": 2
}
