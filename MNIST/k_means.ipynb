{
 "cells": [
  {
   "cell_type": "code",
   "execution_count": 2,
   "metadata": {},
   "outputs": [],
   "source": [
    "import tensorflow as tf\n",
    "import numpy as np\n",
    "from tensorflow.examples.tutorials.mnist import input_data"
   ]
  },
  {
   "cell_type": "code",
   "execution_count": 3,
   "metadata": {},
   "outputs": [
    {
     "name": "stdout",
     "output_type": "stream",
     "text": [
      "Extracting data/fashion\\train-images-idx3-ubyte.gz\n",
      "Extracting data/fashion\\train-labels-idx1-ubyte.gz\n",
      "Extracting data/fashion\\t10k-images-idx3-ubyte.gz\n",
      "Extracting data/fashion\\t10k-labels-idx1-ubyte.gz\n"
     ]
    }
   ],
   "source": [
    "mnist = input_data.read_data_sets('data/fashion',one_hot=True,validation_size=0)"
   ]
  },
  {
   "cell_type": "code",
   "execution_count": 6,
   "metadata": {
    "collapsed": true
   },
   "outputs": [],
   "source": [
    "def k_means(mnist):\n",
    "\n",
    "    train_X, train_Y, testX, testY  = mnist.train.images,mnist.train.labels, mnist.test.images, mnist.test.labels\n",
    "    #trX, trY, teX, teY = np.ceil(train_X), np.ceil(train_Y), np.ceil(testX), np.ceil(testY)\n",
    "\n",
    "    trX = np.vstack((trX,teX[100:9000]))\n",
    "    trY = np.vstack((trY,teY[100:9000]))\n",
    "    \n",
    "    Label=[A,B,C,D,E,F,G,H,I,J]=[[],[],[],[],[],[],[],[],[],[]]\n",
    "    #对 Label 标签进行填充\n",
    "    for i in range(len(trX)):\n",
    "        label = np.argmax(trY[i])\n",
    "        if Label[label] == []:\n",
    "                Label[label] = trX[i]\n",
    "        else:\n",
    "                Label[label] = np.vstack((Label[label],trX[i]))\n",
    "    \n",
    "    #对Label内的每一列求平均数\n",
    "    new_Label = [tf.reduce_mean(content,0) for content in Label]\n",
    "    init = tf.global_variables_initializer()\n",
    "    sess = tf.Session()\n",
    "    new_label = sess.run(new_Label)\n",
    "    right = 0\n",
    "    for i in range(100):\n",
    "        min_num = []\n",
    "        if i%10==0 and i !=0:\n",
    "            print(\"已经处理{0},正确率{1}\".format(i,right/i))\n",
    "        for j in range(len(new_label)):\n",
    "            min_num += [sess.run(tf.sqrt(tf.reduce_sum(tf.pow((new_label[j] - teX[i]),2))))]\n",
    "        min_label = sess.run(tf.argmin(min_num)) \n",
    "        if np.argmax(teY[i]) == min_label:\n",
    "            right += 1.0\n",
    "            trX = np.vstack((trX,teX[i,:]))  #加入但不进行本次训练\n",
    "    print('共处理了共正确分类%d个'%right)\n",
    "    print('正确率%f'%(right/100))"
   ]
  },
  {
   "cell_type": "code",
   "execution_count": 7,
   "metadata": {
    "scrolled": true
   },
   "outputs": [
    {
     "name": "stderr",
     "output_type": "stream",
     "text": [
      "D:\\anaconda\\lib\\site-packages\\ipykernel_launcher.py:13: DeprecationWarning: elementwise == comparison failed; this will raise an error in the future.\n",
      "  del sys.path[0]\n"
     ]
    },
    {
     "name": "stdout",
     "output_type": "stream",
     "text": [
      "已经处理10,正确率0.8\n",
      "已经处理20,正确率0.75\n",
      "已经处理30,正确率0.6666666666666666\n",
      "已经处理40,正确率0.725\n",
      "已经处理50,正确率0.66\n",
      "已经处理60,正确率0.6333333333333333\n",
      "已经处理70,正确率0.6571428571428571\n",
      "已经处理80,正确率0.65\n",
      "已经处理90,正确率0.6666666666666666\n",
      "共处理了共正确分类68个\n",
      "正确率0.680000\n"
     ]
    }
   ],
   "source": [
    "k_means(mnist)"
   ]
  },
  {
   "cell_type": "code",
   "execution_count": null,
   "metadata": {
    "collapsed": true
   },
   "outputs": [],
   "source": []
  }
 ],
 "metadata": {
  "kernelspec": {
   "display_name": "Python 3",
   "language": "python",
   "name": "python3"
  }
 },
 "nbformat": 4,
 "nbformat_minor": 2
}
