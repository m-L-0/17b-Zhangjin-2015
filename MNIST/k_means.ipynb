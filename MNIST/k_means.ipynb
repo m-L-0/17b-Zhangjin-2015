{
 "cells": [
  {
   "cell_type": "code",
   "execution_count": null,
   "metadata": {
    "collapsed": true
   },
   "outputs": [],
   "source": []
  },
  {
   "cell_type": "code",
   "execution_count": null,
   "metadata": {},
   "outputs": [],
   "source": []
  },
  {
   "cell_type": "code",
   "execution_count": null,
   "metadata": {
    "collapsed": true
   },
   "outputs": [],
   "source": [
    "class KMeans(object):\n",
    "\t\n",
    "\timport numpy as np\n",
    "\t\n",
    "\tdef __init__(self, n_clusters=10, initCent='random', max_iter=300):\n",
    "\t\t'''\n",
    "\t\tn_clusters表示聚类的个数，相当于 k \n",
    "\t\tinitCent表示质心的初始化方式，可以设为'random'或指定一个数组\n",
    "\t\tmax_iter表示最大迭代次数\n",
    "\t\t'''\n",
    "\t\timport numpy as np\n",
    "\t\tif hasattr(initCent, '__array__'):\n",
    "\t\t\tn_clusters = initCent.shape[0] #聚类个数\n",
    "\t\t\tself.centroids = np.asarray(initCent , dtype=np.float) #聚类中心\n",
    "\t\telse:\n",
    "\t\t\tself.centroids = None\n",
    "\t\t\n",
    "\t\tself.n_clusters = n_clusters\t#聚类个数\n",
    "\t\tself.max_iter = max_iter\t\t#最大迭代次数\n",
    "\t\tself.initCent = initCent\t\t#选择质心的初始化方式\n",
    "\t\t\n",
    "\t\tself.clusterAssment = None\t\t#X.shape[0]*2矩阵,第一列存储样本所属簇的标签值，第二列是该点与簇质心的均方误差\n",
    "\t\tself.labels = None\t\t\t\t# self.clusterAssment[:,0] \n",
    "\t\tself.sse = None\t\t\t\t\t# sum(self.clusterAssment[:,1] )\n",
    "\t\t\n",
    "\t\n",
    "\tdef _distEclud(self, vecA, vecB):\n",
    "\t\t'''计算两点的欧氏距离'''\n",
    "\t\timport numpy as np\n",
    "\t\treturn np.linalg.norm(vecA - vecB)\n",
    "\t\t\n",
    "\t\t\n",
    "\t\t'''欧氏距离 ——tensorflow\n",
    "\t\t\treturn tf.sqrt(tf.reduce_sum(tf.pow((xtr-xte), 2), reduction_indices=1))\n",
    "\t\t\t\n",
    "\t\t\t曼哈顿距离 ——tensorflow\n",
    "\t\t\treturn tf.reduce_sum(tf.abs(xtr-xte),reduction_indices=1)\n",
    "\t\t'''\n",
    "\t\t\n",
    "\tdef _randCent(self, X, k):\n",
    "\t\t'''随机选取k个质心，必须在数据集的边界内'''\n",
    "\t\timport numpy as np\n",
    "\t\tn = X.shape[1] #特征维数\n",
    "\t\tcentroids = np.empty((k,n)) # np.empty(shape, dtype=float, order='C'),用于产生k*n的矩阵存储质心\n",
    "\t\tfor j in range(n):\n",
    "\t\t\tminJ = min(X[:,j])\n",
    "\t\t\trangeJ = float(max(X[:,j]) - minJ)\n",
    "\t\t\tcentroids[:,j] = (minJ+rangeJ * np.random.rand(k,1)).flatten() #根据每一列的最大与最小值产生 k*n 的随机质心\n",
    "\t\t\n",
    "\t\treturn centroids\n",
    "\t\t\t\n",
    "\n",
    "\tdef fit(self, X):\n",
    "\t\t'''调用fit方法，对数据集X聚类\n",
    "\t\t聚类完后将得到质心self.centroids, 簇分配结果self.clusterAssment'''\n",
    "\t\timport numpy as np\n",
    "\t\tif not isinstance(X,np.ndarray):\n",
    "\t\t\ttry:\n",
    "\t\t\t\tX = np.asarray(X)\n",
    "\t\t\texcept:\n",
    "\t\t\t\traise TypeError('X need 是一个numpy.ndarray类型')\n",
    "\t\tm = X.shape[0] #样本数量\n",
    "\t\tself.clusterAssment = np.empty((m,2)) #m*2矩阵,第一列存储样本所属簇的标签值，第二列是该点与簇质心的均方误差\n",
    "\t\t\n",
    "\t\tif self.initCent == 'random':\n",
    "\t\t\tself.centroids = self._randCent(X, self.n_clusters)\n",
    "\t\t\n",
    "\t\tclusterChanged = True\n",
    "\t\tfor _ in range(self.max_iter):\n",
    "\t\t\tclusterChanged = False\n",
    "\t\t\tfor i in range(m):\n",
    "\t\t\t#'''每个样本点分配到离他最近的簇'''\n",
    "\t\t\t\tminDist = np.inf\t#一个无穷大数\n",
    "\t\t\t\tminIndex = -1\n",
    "\t\t\t\tfor j in range(self.n_clusters):\n",
    "\t\t\t\t\tdistJI = self._distEclud(self.centroids[j,:],X[i,:])\n",
    "\t\t\t\t\tif distJI < minDist:\n",
    "\t\t\t\t\t\tminDist = distJI\n",
    "\t\t\t\t\t\tminIndex = j\n",
    "\t\t\t\tif self.clusterAssment[i,0] != minIndex:\t#修改第i个样本的标签和与标签对应簇的方差\n",
    "\t\t\t\t\tclusterChanged = True\n",
    "\t\t\t\t\tself.clusterAssment[i,:] = minIndex,minDist**2\n",
    "\t\t\t\t\n",
    "\t\t\tif not clusterChanged:  #当样本元素没有发生变动时跳出\n",
    "\t\t\t\tbreak\n",
    "\t\t\tfor i in range(self.n_clusters):\n",
    "\t\t\t\tptsInClust = X[np.nonzero(self.clusterAssment[:,0] == i)[0]]#取出点\n",
    "\t\t\t\tself.centroids[i,:] = np.mean(ptsInClust ,axis=0)\n",
    "\t\tself.labels = self.clusterAssment[:,0]\n",
    "\t\t#self,sse = sum(self.clusterAssment[:,1])\n",
    "\t\t\t\t\n",
    "\tdef predict(self, X):\n",
    "\t\t'''根据聚类结果，预测新输入数据所属的簇'''\n",
    "\t\timport numpy as np\n",
    "\t\tif not isinstance(X,np.ndarray):\n",
    "\t\t\ttry:\n",
    "\t\t\t\tX = np.asarray(X)\n",
    "\t\t\texcept:\n",
    "\t\t\t\traise TypeError('X need 是一个numpy.ndarray类型')\n",
    "\t\tm = X.shape[0]\n",
    "\t\tpreds = np.empty((m,))\n",
    "\t\tfor i in range(m):\n",
    "\t\t\tminDist = np.inf\n",
    "\t\t\tfor j in range(self.n_clusters):\n",
    "\t\t\t\tdistJI = self._distEclud(self.centroids[j,:],X[i,:])\n",
    "\t\t\t\tif distJI < minDist:\n",
    "\t\t\t\t\tminDist = distJI\n",
    "\t\t\t\t\tpreds[i] = j\n",
    "\t\treturn preds"
   ]
  },
  {
   "cell_type": "code",
   "execution_count": null,
   "metadata": {
    "collapsed": true
   },
   "outputs": [],
   "source": [
    "import time\n",
    "mnist = input_data.read_data_sets('data/fashion',one_hot=True,validation_size=0)"
   ]
  },
  {
   "cell_type": "code",
   "execution_count": null,
   "metadata": {
    "collapsed": true
   },
   "outputs": [],
   "source": [
    "import tensorflow as tf\n",
    "import numpy as np\n",
    "from tensorflow.examples.tutorials.mnist import input_data"
   ]
  },
  {
   "cell_type": "code",
   "execution_count": null,
   "metadata": {
    "scrolled": true
   },
   "outputs": [],
   "source": []
  },
  {
   "cell_type": "code",
   "execution_count": null,
   "metadata": {
    "collapsed": true
   },
   "outputs": [],
   "source": []
  },
  {
   "cell_type": "code",
   "execution_count": null,
   "metadata": {
    "collapsed": true
   },
   "outputs": [],
   "source": []
  }
 ],
 "metadata": {
  "kernelspec": {
   "display_name": "Python 3",
   "language": "python",
   "name": "python3"
  },
  "language_info": {
   "codemirror_mode": {
    "name": "ipython",
    "version": 3
   },
   "file_extension": ".py",
   "mimetype": "text/x-python",
   "name": "python",
   "nbconvert_exporter": "python",
   "pygments_lexer": "ipython3",
   "version": "3.6.1"
  }
 },
 "nbformat": 4,
 "nbformat_minor": 2
}
