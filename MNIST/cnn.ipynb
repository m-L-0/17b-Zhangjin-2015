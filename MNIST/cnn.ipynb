{
 "cells": [
  {
   "cell_type": "code",
   "execution_count": 153,
   "metadata": {},
   "outputs": [
    {
     "name": "stdout",
     "output_type": "stream",
     "text": [
      "Extracting data/fashion\\train-images-idx3-ubyte.gz\n",
      "Extracting data/fashion\\train-labels-idx1-ubyte.gz\n",
      "Extracting data/fashion\\t10k-images-idx3-ubyte.gz\n",
      "Extracting data/fashion\\t10k-labels-idx1-ubyte.gz\n"
     ]
    }
   ],
   "source": [
    "import tensorflow as tf\n",
    "import numpy as np\n",
    "from tensorflow.examples.tutorials.mnist import input_data\n",
    "mnist = input_data.read_data_sets('data/fashion',one_hot=True,validation_size=0)\n",
    "train_X, train_Y, testX, testY = mnist.train.images,mnist.train.labels, mnist.test.images, mnist.test.labels"
   ]
  },
  {
   "cell_type": "code",
   "execution_count": 154,
   "metadata": {
    "collapsed": true
   },
   "outputs": [],
   "source": [
    "sess =tf.InteractiveSession()"
   ]
  },
  {
   "cell_type": "code",
   "execution_count": 155,
   "metadata": {
    "collapsed": true
   },
   "outputs": [],
   "source": [
    "def b_variable(shape):\n",
    "    '''设置一个偏置值'''\n",
    "    initial = tf.constant(0.1 ,shape=shape)\n",
    "    return tf.Variable(initial)"
   ]
  },
  {
   "cell_type": "code",
   "execution_count": 156,
   "metadata": {
    "collapsed": true
   },
   "outputs": [],
   "source": [
    "def convolution(input_X, shape, filters, padding='same'): #前后shape不会改变 只改变通道数即filters\n",
    "    input_X = tf.reshape(input_X, shape)\n",
    "    return tf.layers.conv2d(input_X, filters, (2, 2),padding=padding, activation=tf.nn.relu6, kernel_initializer=tf.truncated_normal_initializer(mean=0.0, stddev=0.1))"
   ]
  },
  {
   "cell_type": "code",
   "execution_count": 157,
   "metadata": {
    "collapsed": true
   },
   "outputs": [],
   "source": [
    "def pooling(input_X, shape, filters=(2, 2), strides=(2, 2), padding='same'): #这里选择的max_pooling 我也不知道为什么average_pooling不常用\n",
    "    input_X = tf.reshape(input_X, shape)\n",
    "    return tf.layers.max_pooling2d(input_X, filters, strides, padding=padding)"
   ]
  },
  {
   "cell_type": "code",
   "execution_count": 158,
   "metadata": {},
   "outputs": [],
   "source": [
    "input_X = tf.placeholder(\"float\", [None, 784])\n",
    "y_ = tf.placeholder(\"float\", [None, 10])\n",
    "#第一层卷积加池化[-1,28,28,1]->[-1,28,28,32]->[-1,14,14,32]\n",
    "#with tf.variable_scope('conv1'):\n",
    "b1 = b_variable([32])\n",
    "conv1 = convolution(input_X, [-1, 28, 28, 1], filters=32)+b1\n",
    "#with tf.name_scope(\"pool1\"):\n",
    "conv1 = pooling(conv1,[-1,28,28,32]) \n",
    "\n",
    "#第二层卷积加池化[-1,14,14,32]->[-1,14,14,64]->[-1,7,7,64]\n",
    "#with tf.variable_scope(\"conv2\"):\n",
    "b2 = b_variable([64])\n",
    "conv2 = convolution(conv1, [-1, 14, 14, 32], filters=64)+b2\n",
    "#with tf.name_scope(\"pool2\"):\n",
    "conv2 = pooling(conv2, [-1,14,14,64])\n",
    "\n",
    "#第三层卷积[-1,7,7,64]->[-1,7,7,128] \n",
    "#with tf.variable_scope(\"conv3\"):\n",
    "b3 = b_variable([128])\n",
    "conv3 = convolution(conv2, [-1,7,7,64], filters=128)+b3\n",
    "\n"
   ]
  },
  {
   "cell_type": "code",
   "execution_count": 159,
   "metadata": {
    "collapsed": true
   },
   "outputs": [],
   "source": [
    "# 重塑出\n",
    "shape = np.prod(conv3.get_shape().as_list()[1:])\n",
    "fc1 = tf.reshape(conv3,[-1,shape])"
   ]
  },
  {
   "cell_type": "code",
   "execution_count": 160,
   "metadata": {},
   "outputs": [],
   "source": [
    "#全连接层\n",
    "#with tf.variable_scope(\"flatten\"):\n",
    "fc1 = tf.contrib.layers.fully_connected(fc1,1024,activation_fn=tf.nn.relu6)\n",
    "fc1 = tf.nn.dropout(fc1, keep_prob=0.5)\n",
    "fc2 = tf.contrib.layers.fully_connected(fc1, 512, activation_fn=tf.nn.relu6)\n",
    "logits_ = tf.contrib.layers.fully_connected(fc2, 10, activation_fn=None)     #logistic层\n",
    "logits_ = tf.identity(logits_, name='logits_')\n",
    "cost = tf.reduce_mean(tf.nn.softmax_cross_entropy_with_logits(logits=logits_, labels=y_))\n",
    "optimizer = tf.train.AdamOptimizer(0.001).minimize(cost)\n",
    "#optimizer = tf.train.GradientDescentOptimizer(0.001).minimize(cost)\n",
    "#optimizer = tf.train.MomentumOptimizer(learning_rate=learning_rate,momentum=0.9)\n",
    "#optimizer = tf.train.AdagradOptimizer(learning_rate=learning_rate)\n",
    "#optimizer = tf.train.FtrlOptimizer(learning_rate=learning_rate)\n",
    "correct_pred = tf.equal(tf.argmax(logits_,1), tf.argmax(y_, 1))\n",
    "accuracy = tf.reduce_mean(tf.cast(correct_pred, tf.float32), name='accuracy')"
   ]
  },
  {
   "cell_type": "code",
   "execution_count": 161,
   "metadata": {},
   "outputs": [],
   "source": [
    "#train_writer = tf.summary.FileWriter('graphs/')\n",
    "#train_writer.add_graph(tf.get_default_graph())\n",
    "sess.run(tf.global_variables_initializer())"
   ]
  },
  {
   "cell_type": "code",
   "execution_count": 131,
   "metadata": {
    "scrolled": true
   },
   "outputs": [
    {
     "name": "stdout",
     "output_type": "stream",
     "text": [
      "samples 100,train's accuracy: 0.140000\n",
      "samples 200,train's accuracy: 0.140000\n",
      "samples 300,train's accuracy: 0.760000\n",
      "samples 400,train's accuracy: 0.660000\n",
      "samples 500,train's accuracy: 0.680000\n",
      "samples 600,train's accuracy: 0.660000\n",
      "samples 700,train's accuracy: 0.820000\n",
      "samples 800,train's accuracy: 0.820000\n",
      "samples 900,train's accuracy: 0.860000\n",
      "samples 1000,train's accuracy: 0.820000\n",
      "samples 1100,train's accuracy: 0.820000\n",
      "samples 1200,train's accuracy: 0.840000\n",
      "samples 1300,train's accuracy: 0.760000\n",
      "samples 1400,train's accuracy: 0.800000\n",
      "samples 1500,train's accuracy: 0.820000\n",
      "samples 1600,train's accuracy: 0.860000\n",
      "samples 1700,train's accuracy: 0.820000\n",
      "samples 1800,train's accuracy: 0.960000\n",
      "samples 1900,train's accuracy: 0.940000\n",
      "samples 2000,train's accuracy: 0.780000\n",
      "samples 2100,train's accuracy: 0.840000\n",
      "samples 2200,train's accuracy: 0.840000\n",
      "samples 2300,train's accuracy: 0.840000\n",
      "samples 2400,train's accuracy: 0.880000\n",
      "samples 2500,train's accuracy: 0.900000\n",
      "samples 2600,train's accuracy: 0.820000\n",
      "samples 2700,train's accuracy: 0.780000\n",
      "samples 2800,train's accuracy: 0.860000\n",
      "samples 2900,train's accuracy: 0.880000\n",
      "samples 3000,train's accuracy: 0.920000\n",
      "samples 3100,train's accuracy: 0.840000\n",
      "samples 3200,train's accuracy: 0.940000\n",
      "samples 3300,train's accuracy: 0.840000\n",
      "samples 3400,train's accuracy: 0.880000\n",
      "samples 3500,train's accuracy: 0.820000\n",
      "samples 3600,train's accuracy: 0.960000\n",
      "samples 3700,train's accuracy: 0.940000\n",
      "samples 3800,train's accuracy: 0.940000\n",
      "samples 3900,train's accuracy: 0.920000\n",
      "samples 4000,train's accuracy: 0.880000\n",
      "samples 4100,train's accuracy: 0.960000\n",
      "samples 4200,train's accuracy: 0.860000\n",
      "samples 4300,train's accuracy: 0.880000\n",
      "samples 4400,train's accuracy: 0.900000\n",
      "samples 4500,train's accuracy: 0.960000\n",
      "samples 4600,train's accuracy: 0.860000\n",
      "samples 4700,train's accuracy: 0.900000\n",
      "samples 4800,train's accuracy: 0.900000\n",
      "samples 4900,train's accuracy: 0.840000\n",
      "samples 5000,train's accuracy: 0.880000\n",
      "samples 5100,train's accuracy: 0.840000\n",
      "samples 5200,train's accuracy: 0.880000\n",
      "samples 5300,train's accuracy: 0.840000\n",
      "samples 5400,train's accuracy: 0.920000\n",
      "samples 5500,train's accuracy: 0.920000\n",
      "samples 5600,train's accuracy: 0.840000\n",
      "samples 5700,train's accuracy: 0.980000\n",
      "samples 5800,train's accuracy: 0.880000\n",
      "samples 5900,train's accuracy: 0.920000\n",
      "samples 6000,train's accuracy: 0.880000\n",
      "samples 6100,train's accuracy: 0.860000\n",
      "samples 6200,train's accuracy: 0.980000\n",
      "samples 6300,train's accuracy: 0.880000\n",
      "samples 6400,train's accuracy: 0.980000\n",
      "samples 6500,train's accuracy: 0.940000\n",
      "samples 6600,train's accuracy: 0.900000\n",
      "samples 6700,train's accuracy: 0.920000\n",
      "samples 6800,train's accuracy: 0.900000\n",
      "samples 6900,train's accuracy: 0.900000\n",
      "samples 7000,train's accuracy: 0.900000\n",
      "samples 7100,train's accuracy: 0.980000\n",
      "samples 7200,train's accuracy: 0.840000\n",
      "samples 7300,train's accuracy: 0.900000\n",
      "samples 7400,train's accuracy: 0.920000\n",
      "samples 7500,train's accuracy: 1.000000\n",
      "samples 7600,train's accuracy: 0.920000\n",
      "samples 7700,train's accuracy: 0.880000\n",
      "samples 7800,train's accuracy: 0.920000\n",
      "samples 7900,train's accuracy: 0.940000\n",
      "samples 8000,train's accuracy: 0.960000\n",
      "samples 8100,train's accuracy: 1.000000\n",
      "samples 8200,train's accuracy: 0.900000\n",
      "samples 8300,train's accuracy: 0.920000\n",
      "samples 8400,train's accuracy: 0.920000\n",
      "samples 8500,train's accuracy: 0.920000\n",
      "samples 8600,train's accuracy: 0.880000\n",
      "samples 8700,train's accuracy: 0.900000\n",
      "samples 8800,train's accuracy: 0.920000\n",
      "samples 8900,train's accuracy: 0.800000\n",
      "samples 9000,train's accuracy: 0.880000\n",
      "samples 9100,train's accuracy: 0.960000\n",
      "samples 9200,train's accuracy: 0.940000\n",
      "samples 9300,train's accuracy: 0.860000\n",
      "samples 9400,train's accuracy: 0.980000\n",
      "samples 9500,train's accuracy: 0.780000\n",
      "samples 9600,train's accuracy: 0.900000\n",
      "samples 9700,train's accuracy: 0.920000\n",
      "samples 9800,train's accuracy: 0.920000\n",
      "samples 9900,train's accuracy: 0.900000\n",
      "samples 10000,train's accuracy: 0.920000\n",
      "samples 10100,train's accuracy: 0.920000\n",
      "samples 10200,train's accuracy: 0.960000\n",
      "samples 10300,train's accuracy: 0.880000\n"
     ]
    },
    {
     "ename": "KeyboardInterrupt",
     "evalue": "",
     "output_type": "error",
     "traceback": [
      "\u001b[1;31m---------------------------------------------------------------------------\u001b[0m",
      "\u001b[1;31mKeyboardInterrupt\u001b[0m                         Traceback (most recent call last)",
      "\u001b[1;32m<ipython-input-131-f84caea88138>\u001b[0m in \u001b[0;36m<module>\u001b[1;34m()\u001b[0m\n\u001b[0;32m      4\u001b[0m         \u001b[0mtrain_accuracy\u001b[0m \u001b[1;33m=\u001b[0m \u001b[0maccuracy\u001b[0m\u001b[1;33m.\u001b[0m\u001b[0meval\u001b[0m\u001b[1;33m(\u001b[0m\u001b[0mfeed_dict\u001b[0m\u001b[1;33m=\u001b[0m\u001b[1;33m{\u001b[0m\u001b[0minput_X\u001b[0m\u001b[1;33m:\u001b[0m\u001b[0mbatch\u001b[0m\u001b[1;33m[\u001b[0m\u001b[1;36m0\u001b[0m\u001b[1;33m]\u001b[0m \u001b[1;33m,\u001b[0m\u001b[0my_\u001b[0m\u001b[1;33m:\u001b[0m\u001b[0mbatch\u001b[0m\u001b[1;33m[\u001b[0m\u001b[1;36m1\u001b[0m\u001b[1;33m]\u001b[0m\u001b[1;33m}\u001b[0m\u001b[1;33m)\u001b[0m\u001b[1;33m\u001b[0m\u001b[0m\n\u001b[0;32m      5\u001b[0m         \u001b[0mprint\u001b[0m\u001b[1;33m(\u001b[0m\u001b[1;34m\"samples %d,train's accuracy: %f\"\u001b[0m\u001b[1;33m%\u001b[0m\u001b[1;33m(\u001b[0m\u001b[0mi\u001b[0m\u001b[1;33m,\u001b[0m\u001b[0mtrain_accuracy\u001b[0m\u001b[1;33m)\u001b[0m\u001b[1;33m)\u001b[0m\u001b[1;33m\u001b[0m\u001b[0m\n\u001b[1;32m----> 6\u001b[1;33m     \u001b[0moptimizer\u001b[0m\u001b[1;33m.\u001b[0m\u001b[0mrun\u001b[0m\u001b[1;33m(\u001b[0m\u001b[0mfeed_dict\u001b[0m\u001b[1;33m=\u001b[0m\u001b[1;33m{\u001b[0m\u001b[0minput_X\u001b[0m\u001b[1;33m:\u001b[0m\u001b[0mbatch\u001b[0m\u001b[1;33m[\u001b[0m\u001b[1;36m0\u001b[0m\u001b[1;33m]\u001b[0m \u001b[1;33m,\u001b[0m\u001b[0my_\u001b[0m\u001b[1;33m:\u001b[0m\u001b[0mbatch\u001b[0m\u001b[1;33m[\u001b[0m\u001b[1;36m1\u001b[0m\u001b[1;33m]\u001b[0m\u001b[1;33m}\u001b[0m\u001b[1;33m)\u001b[0m\u001b[1;33m\u001b[0m\u001b[0m\n\u001b[0m",
      "\u001b[1;32mD:\\anaconda\\lib\\site-packages\\tensorflow\\python\\framework\\ops.py\u001b[0m in \u001b[0;36mrun\u001b[1;34m(self, feed_dict, session)\u001b[0m\n\u001b[0;32m   1742\u001b[0m         \u001b[0mnone\u001b[0m\u001b[1;33m,\u001b[0m \u001b[0mthe\u001b[0m \u001b[0mdefault\u001b[0m \u001b[0msession\u001b[0m \u001b[0mwill\u001b[0m \u001b[0mbe\u001b[0m \u001b[0mused\u001b[0m\u001b[1;33m.\u001b[0m\u001b[1;33m\u001b[0m\u001b[0m\n\u001b[0;32m   1743\u001b[0m     \"\"\"\n\u001b[1;32m-> 1744\u001b[1;33m     \u001b[0m_run_using_default_session\u001b[0m\u001b[1;33m(\u001b[0m\u001b[0mself\u001b[0m\u001b[1;33m,\u001b[0m \u001b[0mfeed_dict\u001b[0m\u001b[1;33m,\u001b[0m \u001b[0mself\u001b[0m\u001b[1;33m.\u001b[0m\u001b[0mgraph\u001b[0m\u001b[1;33m,\u001b[0m \u001b[0msession\u001b[0m\u001b[1;33m)\u001b[0m\u001b[1;33m\u001b[0m\u001b[0m\n\u001b[0m\u001b[0;32m   1745\u001b[0m \u001b[1;33m\u001b[0m\u001b[0m\n\u001b[0;32m   1746\u001b[0m \u001b[1;33m\u001b[0m\u001b[0m\n",
      "\u001b[1;32mD:\\anaconda\\lib\\site-packages\\tensorflow\\python\\framework\\ops.py\u001b[0m in \u001b[0;36m_run_using_default_session\u001b[1;34m(operation, feed_dict, graph, session)\u001b[0m\n\u001b[0;32m   4118\u001b[0m                        \u001b[1;34m\"the operation's graph is different from the session's \"\u001b[0m\u001b[1;33m\u001b[0m\u001b[0m\n\u001b[0;32m   4119\u001b[0m                        \"graph.\")\n\u001b[1;32m-> 4120\u001b[1;33m   \u001b[0msession\u001b[0m\u001b[1;33m.\u001b[0m\u001b[0mrun\u001b[0m\u001b[1;33m(\u001b[0m\u001b[0moperation\u001b[0m\u001b[1;33m,\u001b[0m \u001b[0mfeed_dict\u001b[0m\u001b[1;33m)\u001b[0m\u001b[1;33m\u001b[0m\u001b[0m\n\u001b[0m\u001b[0;32m   4121\u001b[0m \u001b[1;33m\u001b[0m\u001b[0m\n\u001b[0;32m   4122\u001b[0m \u001b[1;33m\u001b[0m\u001b[0m\n",
      "\u001b[1;32mD:\\anaconda\\lib\\site-packages\\tensorflow\\python\\client\\session.py\u001b[0m in \u001b[0;36mrun\u001b[1;34m(self, fetches, feed_dict, options, run_metadata)\u001b[0m\n\u001b[0;32m    893\u001b[0m     \u001b[1;32mtry\u001b[0m\u001b[1;33m:\u001b[0m\u001b[1;33m\u001b[0m\u001b[0m\n\u001b[0;32m    894\u001b[0m       result = self._run(None, fetches, feed_dict, options_ptr,\n\u001b[1;32m--> 895\u001b[1;33m                          run_metadata_ptr)\n\u001b[0m\u001b[0;32m    896\u001b[0m       \u001b[1;32mif\u001b[0m \u001b[0mrun_metadata\u001b[0m\u001b[1;33m:\u001b[0m\u001b[1;33m\u001b[0m\u001b[0m\n\u001b[0;32m    897\u001b[0m         \u001b[0mproto_data\u001b[0m \u001b[1;33m=\u001b[0m \u001b[0mtf_session\u001b[0m\u001b[1;33m.\u001b[0m\u001b[0mTF_GetBuffer\u001b[0m\u001b[1;33m(\u001b[0m\u001b[0mrun_metadata_ptr\u001b[0m\u001b[1;33m)\u001b[0m\u001b[1;33m\u001b[0m\u001b[0m\n",
      "\u001b[1;32mD:\\anaconda\\lib\\site-packages\\tensorflow\\python\\client\\session.py\u001b[0m in \u001b[0;36m_run\u001b[1;34m(self, handle, fetches, feed_dict, options, run_metadata)\u001b[0m\n\u001b[0;32m   1122\u001b[0m     \u001b[1;32mif\u001b[0m \u001b[0mfinal_fetches\u001b[0m \u001b[1;32mor\u001b[0m \u001b[0mfinal_targets\u001b[0m \u001b[1;32mor\u001b[0m \u001b[1;33m(\u001b[0m\u001b[0mhandle\u001b[0m \u001b[1;32mand\u001b[0m \u001b[0mfeed_dict_tensor\u001b[0m\u001b[1;33m)\u001b[0m\u001b[1;33m:\u001b[0m\u001b[1;33m\u001b[0m\u001b[0m\n\u001b[0;32m   1123\u001b[0m       results = self._do_run(handle, final_targets, final_fetches,\n\u001b[1;32m-> 1124\u001b[1;33m                              feed_dict_tensor, options, run_metadata)\n\u001b[0m\u001b[0;32m   1125\u001b[0m     \u001b[1;32melse\u001b[0m\u001b[1;33m:\u001b[0m\u001b[1;33m\u001b[0m\u001b[0m\n\u001b[0;32m   1126\u001b[0m       \u001b[0mresults\u001b[0m \u001b[1;33m=\u001b[0m \u001b[1;33m[\u001b[0m\u001b[1;33m]\u001b[0m\u001b[1;33m\u001b[0m\u001b[0m\n",
      "\u001b[1;32mD:\\anaconda\\lib\\site-packages\\tensorflow\\python\\client\\session.py\u001b[0m in \u001b[0;36m_do_run\u001b[1;34m(self, handle, target_list, fetch_list, feed_dict, options, run_metadata)\u001b[0m\n\u001b[0;32m   1319\u001b[0m     \u001b[1;32mif\u001b[0m \u001b[0mhandle\u001b[0m \u001b[1;32mis\u001b[0m \u001b[1;32mNone\u001b[0m\u001b[1;33m:\u001b[0m\u001b[1;33m\u001b[0m\u001b[0m\n\u001b[0;32m   1320\u001b[0m       return self._do_call(_run_fn, self._session, feeds, fetches, targets,\n\u001b[1;32m-> 1321\u001b[1;33m                            options, run_metadata)\n\u001b[0m\u001b[0;32m   1322\u001b[0m     \u001b[1;32melse\u001b[0m\u001b[1;33m:\u001b[0m\u001b[1;33m\u001b[0m\u001b[0m\n\u001b[0;32m   1323\u001b[0m       \u001b[1;32mreturn\u001b[0m \u001b[0mself\u001b[0m\u001b[1;33m.\u001b[0m\u001b[0m_do_call\u001b[0m\u001b[1;33m(\u001b[0m\u001b[0m_prun_fn\u001b[0m\u001b[1;33m,\u001b[0m \u001b[0mself\u001b[0m\u001b[1;33m.\u001b[0m\u001b[0m_session\u001b[0m\u001b[1;33m,\u001b[0m \u001b[0mhandle\u001b[0m\u001b[1;33m,\u001b[0m \u001b[0mfeeds\u001b[0m\u001b[1;33m,\u001b[0m \u001b[0mfetches\u001b[0m\u001b[1;33m)\u001b[0m\u001b[1;33m\u001b[0m\u001b[0m\n",
      "\u001b[1;32mD:\\anaconda\\lib\\site-packages\\tensorflow\\python\\client\\session.py\u001b[0m in \u001b[0;36m_do_call\u001b[1;34m(self, fn, *args)\u001b[0m\n\u001b[0;32m   1325\u001b[0m   \u001b[1;32mdef\u001b[0m \u001b[0m_do_call\u001b[0m\u001b[1;33m(\u001b[0m\u001b[0mself\u001b[0m\u001b[1;33m,\u001b[0m \u001b[0mfn\u001b[0m\u001b[1;33m,\u001b[0m \u001b[1;33m*\u001b[0m\u001b[0margs\u001b[0m\u001b[1;33m)\u001b[0m\u001b[1;33m:\u001b[0m\u001b[1;33m\u001b[0m\u001b[0m\n\u001b[0;32m   1326\u001b[0m     \u001b[1;32mtry\u001b[0m\u001b[1;33m:\u001b[0m\u001b[1;33m\u001b[0m\u001b[0m\n\u001b[1;32m-> 1327\u001b[1;33m       \u001b[1;32mreturn\u001b[0m \u001b[0mfn\u001b[0m\u001b[1;33m(\u001b[0m\u001b[1;33m*\u001b[0m\u001b[0margs\u001b[0m\u001b[1;33m)\u001b[0m\u001b[1;33m\u001b[0m\u001b[0m\n\u001b[0m\u001b[0;32m   1328\u001b[0m     \u001b[1;32mexcept\u001b[0m \u001b[0merrors\u001b[0m\u001b[1;33m.\u001b[0m\u001b[0mOpError\u001b[0m \u001b[1;32mas\u001b[0m \u001b[0me\u001b[0m\u001b[1;33m:\u001b[0m\u001b[1;33m\u001b[0m\u001b[0m\n\u001b[0;32m   1329\u001b[0m       \u001b[0mmessage\u001b[0m \u001b[1;33m=\u001b[0m \u001b[0mcompat\u001b[0m\u001b[1;33m.\u001b[0m\u001b[0mas_text\u001b[0m\u001b[1;33m(\u001b[0m\u001b[0me\u001b[0m\u001b[1;33m.\u001b[0m\u001b[0mmessage\u001b[0m\u001b[1;33m)\u001b[0m\u001b[1;33m\u001b[0m\u001b[0m\n",
      "\u001b[1;32mD:\\anaconda\\lib\\site-packages\\tensorflow\\python\\client\\session.py\u001b[0m in \u001b[0;36m_run_fn\u001b[1;34m(session, feed_dict, fetch_list, target_list, options, run_metadata)\u001b[0m\n\u001b[0;32m   1304\u001b[0m           return tf_session.TF_Run(session, options,\n\u001b[0;32m   1305\u001b[0m                                    \u001b[0mfeed_dict\u001b[0m\u001b[1;33m,\u001b[0m \u001b[0mfetch_list\u001b[0m\u001b[1;33m,\u001b[0m \u001b[0mtarget_list\u001b[0m\u001b[1;33m,\u001b[0m\u001b[1;33m\u001b[0m\u001b[0m\n\u001b[1;32m-> 1306\u001b[1;33m                                    status, run_metadata)\n\u001b[0m\u001b[0;32m   1307\u001b[0m \u001b[1;33m\u001b[0m\u001b[0m\n\u001b[0;32m   1308\u001b[0m     \u001b[1;32mdef\u001b[0m \u001b[0m_prun_fn\u001b[0m\u001b[1;33m(\u001b[0m\u001b[0msession\u001b[0m\u001b[1;33m,\u001b[0m \u001b[0mhandle\u001b[0m\u001b[1;33m,\u001b[0m \u001b[0mfeed_dict\u001b[0m\u001b[1;33m,\u001b[0m \u001b[0mfetch_list\u001b[0m\u001b[1;33m)\u001b[0m\u001b[1;33m:\u001b[0m\u001b[1;33m\u001b[0m\u001b[0m\n",
      "\u001b[1;31mKeyboardInterrupt\u001b[0m: "
     ]
    }
   ],
   "source": [
    "for i in range(15000):\n",
    "    batch = mnist.train.next_batch(50)\n",
    "    if i%100 == 0 and i !=0:\n",
    "        train_accuracy = accuracy.eval(feed_dict={input_X:batch[0] ,y_:batch[1]})\n",
    "        print(\"samples %d,train's accuracy: %f\"%(i,train_accuracy))\n",
    "    optimizer.run(feed_dict={input_X:batch[0] ,y_:batch[1]})"
   ]
  },
  {
   "cell_type": "code",
   "execution_count": 121,
   "metadata": {},
   "outputs": [
    {
     "data": {
      "text/plain": [
       "'C:\\\\Users\\\\JIN\\\\Desktop\\\\machine\\\\homework1\\\\sess1.csv'"
      ]
     },
     "execution_count": 121,
     "metadata": {},
     "output_type": "execute_result"
    }
   ],
   "source": [
    "saver=tf.train.Saver()\n",
    "saver.save(sess,r'C:\\Users\\JIN\\Desktop\\machine\\homework1\\session15000')"
   ]
  },
  {
   "cell_type": "code",
   "execution_count": 119,
   "metadata": {},
   "outputs": [
    {
     "name": "stdout",
     "output_type": "stream",
     "text": [
      "samples train_test,train's accuracy: 1.000000\n",
      "test accuracy 0.9072\n"
     ]
    }
   ],
   "source": [
    "# overfit后的模型  test集固定在0.9072上\n",
    "batch = mnist.train.next_batch(50)\n",
    "train_accuracy = accuracy.eval(feed_dict={input_X:batch[0] ,y_:batch[1]})\n",
    "print(\"samples train_test,train's accuracy: %f\"%(train_accuracy))\n",
    "\n",
    "testSet = mnist.test.next_batch(10000)\n",
    "c = accuracy.eval(feed_dict={input_X: testSet[0], y_: testSet[1]})\n",
    "print(\"test accuracy %g\" % c)"
   ]
  },
  {
   "cell_type": "code",
   "execution_count": 136,
   "metadata": {},
   "outputs": [
    {
     "data": {
      "text/plain": [
       "'C:\\\\Users\\\\JIN\\\\Desktop\\\\machine\\\\homework1\\\\session10000'"
      ]
     },
     "execution_count": 136,
     "metadata": {},
     "output_type": "execute_result"
    }
   ],
   "source": [
    "saver=tf.train.Saver()\n",
    "saver.save(sess,r'C:\\Users\\JIN\\Desktop\\machine\\homework1\\session10000')"
   ]
  },
  {
   "cell_type": "code",
   "execution_count": 135,
   "metadata": {},
   "outputs": [
    {
     "name": "stdout",
     "output_type": "stream",
     "text": [
      "samples train_test,train's accuracy: 0.880000\n",
      "test accuracy 0.9012\n"
     ]
    }
   ],
   "source": [
    "batch = mnist.train.next_batch(50)\n",
    "train_accuracy = accuracy.eval(feed_dict={input_X:batch[0] ,y_:batch[1]})\n",
    "print(\"samples train_test,train's accuracy: %f\"%(train_accuracy))\n",
    "\n",
    "testSet = mnist.test.next_batch(10000)\n",
    "c = accuracy.eval(feed_dict={input_X: testSet[0], y_: testSet[1]})\n",
    "print(\"test accuracy %g\" % c)"
   ]
  },
  {
   "cell_type": "code",
   "execution_count": null,
   "metadata": {
    "collapsed": true
   },
   "outputs": [],
   "source": []
  },
  {
   "cell_type": "code",
   "execution_count": null,
   "metadata": {
    "collapsed": true
   },
   "outputs": [],
   "source": []
  }
 ],
 "metadata": {
  "kernelspec": {
   "display_name": "Python 3",
   "language": "python",
   "name": "python3"
  },
  "language_info": {
   "codemirror_mode": {
    "name": "ipython",
    "version": 3
   },
   "file_extension": ".py",
   "mimetype": "text/x-python",
   "name": "python",
   "nbconvert_exporter": "python",
   "pygments_lexer": "ipython3",
   "version": "3.6.1"
  }
 },
 "nbformat": 4,
 "nbformat_minor": 2
}
