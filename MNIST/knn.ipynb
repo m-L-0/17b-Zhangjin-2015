{
 "cells": [
  {
   "cell_type": "code",
   "execution_count": 20,
   "metadata": {},
   "outputs": [],
   "source": [
    "import tensorflow as tf\n",
    "import numpy as np\n",
    "from tensorflow.examples.tutorials.mnist import input_data\n",
    "import time"
   ]
  },
  {
   "cell_type": "code",
   "execution_count": 21,
   "metadata": {},
   "outputs": [
    {
     "name": "stdout",
     "output_type": "stream",
     "text": [
      "Extracting data/fashion\\train-images-idx3-ubyte.gz\n",
      "Extracting data/fashion\\train-labels-idx1-ubyte.gz\n",
      "Extracting data/fashion\\t10k-images-idx3-ubyte.gz\n",
      "Extracting data/fashion\\t10k-labels-idx1-ubyte.gz\n"
     ]
    }
   ],
   "source": [
    "mnist = input_data.read_data_sets('data/fashion',one_hot=True,validation_size=0)"
   ]
  },
  {
   "cell_type": "code",
   "execution_count": 22,
   "metadata": {
    "collapsed": true
   },
   "outputs": [],
   "source": [
    "train_X, train_Y, testX, testY = mnist.train.images,mnist.train.labels, mnist.test.images, mnist.test.labels"
   ]
  },
  {
   "cell_type": "code",
   "execution_count": 23,
   "metadata": {
    "scrolled": true
   },
   "outputs": [],
   "source": [
    "trX, trY, teX, teY = np.ceil(train_X), np.ceil(train_Y), np.ceil(testX), np.ceil(testY)"
   ]
  },
  {
   "cell_type": "code",
   "execution_count": 24,
   "metadata": {
    "collapsed": true
   },
   "outputs": [],
   "source": [
    "trX = np.vstack((trX,teX[300:9000]))\n",
    "trY = np.vstack((trY,teY[300:9000]))"
   ]
  },
  {
   "cell_type": "code",
   "execution_count": 25,
   "metadata": {},
   "outputs": [],
   "source": [
    "def Euclidean_distance(xtr,xte):\n",
    "    return tf.sqrt(tf.reduce_sum(tf.pow((xtr-xte), 2), reduction_indices=1))"
   ]
  },
  {
   "cell_type": "code",
   "execution_count": 26,
   "metadata": {
    "collapsed": true
   },
   "outputs": [],
   "source": [
    "def Manhattan_distance(xtr,xte):\n",
    "    return tf.reduce_sum(tf.abs(xtr-xte),reduction_indices=1)"
   ]
  },
  {
   "cell_type": "code",
   "execution_count": 27,
   "metadata": {
    "collapsed": true
   },
   "outputs": [],
   "source": [
    "#def Hamming_distance(xtr,xte):  此汉明方法不适合\n",
    " #   return "
   ]
  },
  {
   "cell_type": "code",
   "execution_count": null,
   "metadata": {
    "collapsed": true
   },
   "outputs": [],
   "source": []
  },
  {
   "cell_type": "code",
   "execution_count": null,
   "metadata": {
    "collapsed": true
   },
   "outputs": [],
   "source": []
  },
  {
   "cell_type": "code",
   "execution_count": 28,
   "metadata": {
    "collapsed": true
   },
   "outputs": [],
   "source": [
    "def knn_simple():\n",
    "    start = time.time()\n",
    "    xtr = tf.placeholder(tf.float32, [None, 784])\n",
    "    xte = tf.placeholder(tf.float32, [784])\n",
    "    \n",
    "    distance = Euclidean_distance(xtr,xte)\n",
    "    \n",
    "    pred = tf.argmin(distance, 0)\n",
    "    init = tf.global_variables_initializer()\n",
    "    sess = tf.Session()\n",
    "    sess.run(init)\n",
    "    right = 0\n",
    "    \n",
    "    for i in range(300):\n",
    "        if i % 50==0 and i !=0:\n",
    "            print(\"已处理 {0}，正确率为{1}\".format(i,right/i))\n",
    "        index = sess.run(pred, {xtr: trX, xte: teX[i, :]})\n",
    "        \n",
    "        if np.argmax(teY[i]) == np.argmax(trY[index]):\n",
    "            right += 1.0\n",
    "    print('总共处理%d 用时%f' %(300,time.time()-start))\n",
    "    print('正确数量%d 正确率为%f' %(right,right/300))"
   ]
  },
  {
   "cell_type": "code",
   "execution_count": 29,
   "metadata": {
    "scrolled": true
   },
   "outputs": [
    {
     "name": "stdout",
     "output_type": "stream",
     "text": [
      "已处理 50，正确率为0.76\n",
      "已处理 100，正确率为0.83\n",
      "已处理 150，正确率为0.8466666666666667\n",
      "已处理 200，正确率为0.865\n",
      "已处理 250，正确率为0.86\n",
      "总共处理300 用时214.871881\n",
      "正确数量255 正确率为0.850000\n"
     ]
    }
   ],
   "source": [
    "knn_simple()"
   ]
  },
  {
   "cell_type": "code",
   "execution_count": null,
   "metadata": {
    "collapsed": true
   },
   "outputs": [],
   "source": []
  }
 ],
 "metadata": {
  "kernelspec": {
   "display_name": "Python 3",
   "language": "python",
   "name": "python3"
  },
  "language_info": {
   "codemirror_mode": {
    "name": "ipython",
    "version": 3
   },
   "file_extension": ".py",
   "mimetype": "text/x-python",
   "name": "python",
   "nbconvert_exporter": "python",
   "pygments_lexer": "ipython3",
   "version": "3.6.1"
  }
 },
 "nbformat": 4,
 "nbformat_minor": 2
}
